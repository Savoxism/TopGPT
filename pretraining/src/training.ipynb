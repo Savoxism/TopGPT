{
 "cells": [
  {
   "cell_type": "markdown",
   "id": "a9e85390",
   "metadata": {},
   "source": [
    "# TopGPT Training Notebook"
   ]
  },
  {
   "cell_type": "code",
   "execution_count": null,
   "id": "304d3e4e",
   "metadata": {},
   "outputs": [],
   "source": [
    "import torch\n",
    "import os\n",
    "from tqdm import tqdm\n",
    "from src.config import GPTConfig\n",
    "from src.gpt import GPTLanguageModel\n",
    "\n",
    "torch.manual_seed(1337)"
   ]
  },
  {
   "cell_type": "code",
   "execution_count": null,
   "id": "07525327",
   "metadata": {},
   "outputs": [],
   "source": [
    "def load_data(config):\n",
    "    with open(config.data_path, \"r\", encoding=\"utf-8\") as f:\n",
    "        text = f.read()\n",
    "    \n",
    "    # Character-level tokenization\n",
    "    chars = sorted(list(set(text)))\n",
    "    config.vocab_size = len(chars)\n",
    "    \n",
    "    # Create mappings\n",
    "    stoi = {ch: i for i, ch in enumerate(chars)}\n",
    "    itos = {i: ch for i, ch in enumerate(chars)}\n",
    "    \n",
    "    # Define encoding/decoding functions\n",
    "    encode = lambda s: [stoi[c] for c in s]\n",
    "    decode = lambda l: ''.join([itos[i] for i in l])\n",
    "    \n",
    "    # Train and validation split\n",
    "    data = torch.tensor(encode(text), dtype=torch.long)\n",
    "    n = int(0.9 * len(data))\n",
    "    train_data = data[:n]\n",
    "    val_data = data[n:]\n",
    "    \n",
    "    return train_data, val_data, encode, decode\n",
    "\n",
    "def get_batch(config, data_split, train_data, val_data):\n",
    "    data = train_data if data_split == 'train' else val_data\n",
    "    ix = torch.randint(len(data) - config.block_size, (config.batch_size,))\n",
    "    x = torch.stack([data[i:i+config.block_size] for i in ix])\n",
    "    y = torch.stack([data[i+1:i+config.block_size+1] for i in ix])\n",
    "    x, y = x.to(config.device), y.to(config.device)\n",
    "    return x, y\n",
    "\n",
    "@torch.no_grad()\n",
    "def estimate_loss(config, model, train_data, val_data):\n",
    "    out = {}\n",
    "    model.eval()\n",
    "    for split in ['train', 'val']:\n",
    "        losses = torch.zeros(config.eval_iters)\n",
    "        for k in range(config.eval_iters):\n",
    "            X, Y = get_batch(config, split, train_data, val_data)\n",
    "            logits, loss = model(X, Y)\n",
    "            losses[k] = loss.item()\n",
    "        out[split] = losses.mean()\n",
    "    model.train()\n",
    "    return out"
   ]
  },
  {
   "cell_type": "code",
   "execution_count": null,
   "id": "6f3b8725",
   "metadata": {},
   "outputs": [],
   "source": [
    "config = GPTConfig()\n",
    "print(f\"Using device: {config.device}\")"
   ]
  },
  {
   "cell_type": "code",
   "execution_count": null,
   "id": "102e38c6",
   "metadata": {},
   "outputs": [],
   "source": [
    "# Load data\n",
    "train_data, val_data, encode, decode = load_data(config)\n",
    "print(f\"Vocabulary size: {config.vocab_size}\")"
   ]
  },
  {
   "cell_type": "code",
   "execution_count": null,
   "id": "7ecacdf4",
   "metadata": {},
   "outputs": [],
   "source": [
    "os.makedirs(os.path.dirname(config.model_save_path), exist_ok=True)"
   ]
  },
  {
   "cell_type": "code",
   "execution_count": null,
   "id": "98cda680",
   "metadata": {},
   "outputs": [],
   "source": [
    "# Initialize model\n",
    "model = GPTLanguageModel(config)\n",
    "model.to(config.device)\n",
    "print(f\"Number of parameters: {sum(p.numel() for p in model.parameters())/1e6:.2f}M\")\n",
    "\n",
    "optimizer = torch.optim.AdamW(model.parameters(), lr=config.learning_rate)"
   ]
  },
  {
   "cell_type": "code",
   "execution_count": null,
   "id": "3bb8c11e",
   "metadata": {},
   "outputs": [],
   "source": [
    "# Training loop\n",
    "for iter in tqdm(range(config.max_iters), desc=\"Training\"):\n",
    "    if iter % config.eval_interval == 0 or iter == config.max_iters - 1:\n",
    "        losses = estimate_loss(config, model, train_data, val_data)\n",
    "        print(f\"Step {iter}: train loss {losses['train']:.4f}, val loss {losses['val']:.4f}\")\n",
    "    \n",
    "    xb, yb = get_batch(config, 'train', train_data, val_data)\n",
    "    logits, loss = model(xb, yb)\n",
    "    \n",
    "    optimizer.zero_grad(set_to_none=True)\n",
    "    loss.backward()\n",
    "    optimizer.step()\n",
    "\n",
    "model.save(config.model_save_path)\n",
    "print(f\"Model saved to {config.model_save_path}\")"
   ]
  },
  {
   "cell_type": "code",
   "execution_count": null,
   "id": "246416e3",
   "metadata": {},
   "outputs": [],
   "source": [
    "context = torch.zeros((1, 1), dtype=torch.long, device=config.device)\n",
    "generated_text = decode(model.generate(context, max_new_tokens=500)[0].tolist())\n",
    "print(generated_text)\n",
    "\n",
    "# Save longer generated text to file\n",
    "with open(config.result_file, 'w') as f:\n",
    "    longer_text = decode(model.generate(context, max_new_tokens=10000)[0].tolist())\n",
    "    f.write(longer_text)\n",
    "\n",
    "print(f\"Longer generated text saved to {config.result_file}\")"
   ]
  },
  {
   "cell_type": "markdown",
   "id": "a932bee2",
   "metadata": {},
   "source": [
    "# Done"
   ]
  }
 ],
 "metadata": {
  "kernelspec": {
   "display_name": "venv",
   "language": "python",
   "name": "python3"
  },
  "language_info": {
   "codemirror_mode": {
    "name": "ipython",
    "version": 3
   },
   "file_extension": ".py",
   "mimetype": "text/x-python",
   "name": "python",
   "nbconvert_exporter": "python",
   "pygments_lexer": "ipython3",
   "version": "3.9.6"
  }
 },
 "nbformat": 4,
 "nbformat_minor": 5
}
