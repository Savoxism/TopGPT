{
 "cells": [
  {
   "cell_type": "markdown",
   "id": "a9e85390",
   "metadata": {},
   "source": [
    "# TopGPT Training Notebook"
   ]
  },
  {
   "cell_type": "code",
   "execution_count": 1,
   "id": "304d3e4e",
   "metadata": {},
   "outputs": [
    {
     "data": {
      "text/plain": [
       "<torch._C.Generator at 0x107f0cc10>"
      ]
     },
     "execution_count": 1,
     "metadata": {},
     "output_type": "execute_result"
    }
   ],
   "source": [
    "import torch\n",
    "import os\n",
    "from tqdm import tqdm\n",
    "from config import GPTConfig\n",
    "from gpt import GPTLanguageModel\n",
    "\n",
    "torch.manual_seed(1337)"
   ]
  },
  {
   "cell_type": "code",
   "execution_count": 2,
   "id": "07525327",
   "metadata": {},
   "outputs": [],
   "source": [
    "def load_data(config):\n",
    "    with open(config.data_path, \"r\", encoding=\"utf-8\") as f:\n",
    "        text = f.read()\n",
    "    \n",
    "    # Character-level tokenization\n",
    "    chars = sorted(list(set(text)))\n",
    "    config.vocab_size = len(chars)\n",
    "    \n",
    "    # Create mappings\n",
    "    stoi = {ch: i for i, ch in enumerate(chars)}\n",
    "    itos = {i: ch for i, ch in enumerate(chars)}\n",
    "    \n",
    "    # Define encoding/decoding functions\n",
    "    encode = lambda s: [stoi[c] for c in s]\n",
    "    decode = lambda l: ''.join([itos[i] for i in l])\n",
    "    \n",
    "    # Train and validation split\n",
    "    data = torch.tensor(encode(text), dtype=torch.long)\n",
    "    n = int(0.9 * len(data))\n",
    "    train_data = data[:n]\n",
    "    val_data = data[n:]\n",
    "    \n",
    "    return train_data, val_data, encode, decode\n",
    "\n",
    "def get_batch(config, data_split, train_data, val_data):\n",
    "    data = train_data if data_split == 'train' else val_data\n",
    "    ix = torch.randint(len(data) - config.block_size, (config.batch_size,))\n",
    "    x = torch.stack([data[i:i+config.block_size] for i in ix])\n",
    "    y = torch.stack([data[i+1:i+config.block_size+1] for i in ix])\n",
    "    x, y = x.to(config.device), y.to(config.device)\n",
    "    return x, y\n",
    "\n",
    "@torch.no_grad()\n",
    "def estimate_loss(config, model, train_data, val_data):\n",
    "    out = {}\n",
    "    model.eval()\n",
    "    for split in ['train', 'val']:\n",
    "        losses = torch.zeros(config.eval_iters)\n",
    "        for k in range(config.eval_iters):\n",
    "            X, Y = get_batch(config, split, train_data, val_data)\n",
    "            logits, loss = model(X, Y)\n",
    "            losses[k] = loss.item()\n",
    "        out[split] = losses.mean()\n",
    "    model.train()\n",
    "    return out"
   ]
  },
  {
   "cell_type": "code",
   "execution_count": 3,
   "id": "6f3b8725",
   "metadata": {},
   "outputs": [
    {
     "name": "stdout",
     "output_type": "stream",
     "text": [
      "Using device: mps\n"
     ]
    }
   ],
   "source": [
    "config = GPTConfig()\n",
    "print(f\"Using device: {config.device}\")"
   ]
  },
  {
   "cell_type": "code",
   "execution_count": 4,
   "id": "102e38c6",
   "metadata": {},
   "outputs": [
    {
     "name": "stdout",
     "output_type": "stream",
     "text": [
      "Vocabulary size: 65\n"
     ]
    }
   ],
   "source": [
    "# Load data\n",
    "train_data, val_data, encode, decode = load_data(config)\n",
    "print(f\"Vocabulary size: {config.vocab_size}\")"
   ]
  },
  {
   "cell_type": "code",
   "execution_count": 5,
   "id": "7ecacdf4",
   "metadata": {},
   "outputs": [],
   "source": [
    "os.makedirs(os.path.dirname(config.model_save_path), exist_ok=True)"
   ]
  },
  {
   "cell_type": "code",
   "execution_count": 6,
   "id": "98cda680",
   "metadata": {},
   "outputs": [
    {
     "name": "stdout",
     "output_type": "stream",
     "text": [
      "Number of parameters: 10.79M\n"
     ]
    }
   ],
   "source": [
    "# Initialize model\n",
    "model = GPTLanguageModel(config)\n",
    "model.to(config.device)\n",
    "print(f\"Number of parameters: {sum(p.numel() for p in model.parameters())/1e6:.2f}M\")\n",
    "\n",
    "optimizer = torch.optim.AdamW(model.parameters(), lr=config.learning_rate)"
   ]
  },
  {
   "cell_type": "code",
   "execution_count": 7,
   "id": "3bb8c11e",
   "metadata": {},
   "outputs": [
    {
     "name": "stderr",
     "output_type": "stream",
     "text": [
      "Training:   0%|          | 0/5000 [00:00<?, ?it/s]"
     ]
    },
    {
     "name": "stdout",
     "output_type": "stream",
     "text": [
      "Step 0: train loss 4.2227, val loss 4.2303\n"
     ]
    },
    {
     "name": "stderr",
     "output_type": "stream",
     "text": [
      "Training:  10%|█         | 500/5000 [04:56<37:13,  2.01it/s] "
     ]
    },
    {
     "name": "stdout",
     "output_type": "stream",
     "text": [
      "Step 500: train loss 1.7465, val loss 1.8745\n"
     ]
    },
    {
     "name": "stderr",
     "output_type": "stream",
     "text": [
      "Training:  20%|██        | 1000/5000 [09:57<32:03,  2.08it/s]  "
     ]
    },
    {
     "name": "stdout",
     "output_type": "stream",
     "text": [
      "Step 1000: train loss 1.3949, val loss 1.6016\n"
     ]
    },
    {
     "name": "stderr",
     "output_type": "stream",
     "text": [
      "Training:  30%|███       | 1500/5000 [15:02<28:02,  2.08it/s]   "
     ]
    },
    {
     "name": "stdout",
     "output_type": "stream",
     "text": [
      "Step 1500: train loss 1.2669, val loss 1.5285\n"
     ]
    },
    {
     "name": "stderr",
     "output_type": "stream",
     "text": [
      "Training:  40%|████      | 2000/5000 [33:22<22:45,  2.20it/s]     "
     ]
    },
    {
     "name": "stdout",
     "output_type": "stream",
     "text": [
      "Step 2000: train loss 1.1880, val loss 1.5131\n"
     ]
    },
    {
     "name": "stderr",
     "output_type": "stream",
     "text": [
      "Training:  50%|█████     | 2500/5000 [38:13<19:32,  2.13it/s]   "
     ]
    },
    {
     "name": "stdout",
     "output_type": "stream",
     "text": [
      "Step 2500: train loss 1.1261, val loss 1.4916\n"
     ]
    },
    {
     "name": "stderr",
     "output_type": "stream",
     "text": [
      "Training:  60%|██████    | 3000/5000 [49:36<15:10,  2.20it/s]   "
     ]
    },
    {
     "name": "stdout",
     "output_type": "stream",
     "text": [
      "Step 3000: train loss 1.0714, val loss 1.5100\n"
     ]
    },
    {
     "name": "stderr",
     "output_type": "stream",
     "text": [
      "Training:  70%|███████   | 3500/5000 [54:23<12:01,  2.08it/s]  "
     ]
    },
    {
     "name": "stdout",
     "output_type": "stream",
     "text": [
      "Step 3500: train loss 1.0214, val loss 1.5208\n"
     ]
    },
    {
     "name": "stderr",
     "output_type": "stream",
     "text": [
      "Training:  80%|████████  | 4000/5000 [59:18<07:57,  2.09it/s]  "
     ]
    },
    {
     "name": "stdout",
     "output_type": "stream",
     "text": [
      "Step 4000: train loss 0.9683, val loss 1.5352\n"
     ]
    },
    {
     "name": "stderr",
     "output_type": "stream",
     "text": [
      "Training:  90%|█████████ | 4500/5000 [1:04:13<03:54,  2.13it/s]  "
     ]
    },
    {
     "name": "stdout",
     "output_type": "stream",
     "text": [
      "Step 4500: train loss 0.9178, val loss 1.5782\n"
     ]
    },
    {
     "name": "stderr",
     "output_type": "stream",
     "text": [
      "Training: 100%|█████████▉| 4999/5000 [1:09:07<00:00,  2.12it/s]  "
     ]
    },
    {
     "name": "stdout",
     "output_type": "stream",
     "text": [
      "Step 4999: train loss 0.8675, val loss 1.5994\n"
     ]
    },
    {
     "name": "stderr",
     "output_type": "stream",
     "text": [
      "Training: 100%|██████████| 5000/5000 [1:10:02<00:00,  1.19it/s]"
     ]
    },
    {
     "name": "stdout",
     "output_type": "stream",
     "text": [
      "Model saved to checkpoints/model.pt\n"
     ]
    },
    {
     "name": "stderr",
     "output_type": "stream",
     "text": [
      "\n"
     ]
    }
   ],
   "source": [
    "# Training loop\n",
    "for iter in tqdm(range(config.max_iters), desc=\"Training\"):\n",
    "    if iter % config.eval_interval == 0 or iter == config.max_iters - 1:\n",
    "        losses = estimate_loss(config, model, train_data, val_data)\n",
    "        print(f\"Step {iter}: train loss {losses['train']:.4f}, val loss {losses['val']:.4f}\")\n",
    "    \n",
    "    xb, yb = get_batch(config, 'train', train_data, val_data)\n",
    "    logits, loss = model(xb, yb)\n",
    "    \n",
    "    optimizer.zero_grad(set_to_none=True)\n",
    "    loss.backward()\n",
    "    optimizer.step()\n",
    "\n",
    "model.save(config.model_save_path)\n",
    "print(f\"Model saved to {config.model_save_path}\")"
   ]
  },
  {
   "cell_type": "code",
   "execution_count": 8,
   "id": "246416e3",
   "metadata": {},
   "outputs": [
    {
     "name": "stdout",
     "output_type": "stream",
     "text": [
      "\n",
      "all exoners; all found only, to the signs will of\n",
      "oper play. Be revenged, sir, say you?\n",
      "\n",
      "FROTH:\n",
      "Romeo, then the did one set out.\n",
      "\n",
      "TYBALT:\n",
      "How are the modest senate. But can speak again?\n",
      "Why, arm, they know, ye fetch what a'?\n",
      "\n",
      "QUEEN MARGARET:\n",
      "Ay, I money'd thee, ay, that so much more\n",
      "Than my mercy sword 'Clarence;' a wing.\n",
      "Heavy children, prince, my lord, earnes!\n",
      "Being a haply, iron'd indeed,\n",
      "Hold my manish in the law.\n",
      "Tell me poison, think now at me,\n",
      "So many years, not harsh a hunder thing.\n",
      "\n",
      "LAD\n",
      "Longer generated text saved to result.txt\n"
     ]
    }
   ],
   "source": [
    "context = torch.zeros((1, 1), dtype=torch.long, device=config.device)\n",
    "generated_text = decode(model.generate(context, max_new_tokens=500)[0].tolist())\n",
    "print(generated_text)\n",
    "\n",
    "# Save longer generated text to file\n",
    "with open(config.result_file, 'w') as f:\n",
    "    longer_text = decode(model.generate(context, max_new_tokens=10000)[0].tolist())\n",
    "    f.write(longer_text)\n",
    "\n",
    "print(f\"Longer generated text saved to {config.result_file}\")"
   ]
  },
  {
   "cell_type": "markdown",
   "id": "a932bee2",
   "metadata": {},
   "source": [
    "# Done"
   ]
  }
 ],
 "metadata": {
  "kernelspec": {
   "display_name": "venv",
   "language": "python",
   "name": "python3"
  },
  "language_info": {
   "codemirror_mode": {
    "name": "ipython",
    "version": 3
   },
   "file_extension": ".py",
   "mimetype": "text/x-python",
   "name": "python",
   "nbconvert_exporter": "python",
   "pygments_lexer": "ipython3",
   "version": "3.9.6"
  }
 },
 "nbformat": 4,
 "nbformat_minor": 5
}
