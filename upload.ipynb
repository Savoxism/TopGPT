{
 "cells": [
  {
   "cell_type": "code",
   "execution_count": null,
   "id": "6f2851f1",
   "metadata": {},
   "outputs": [],
   "source": [
    "from huggingface_hub import login\n",
    "from dotenv import load_dotenv\n",
    "import os, json, glob\n",
    "from tqdm import tqdm\n",
    "from datasets import load_dataset, Dataset, Features, Value\n",
    "\n",
    "load_dotenv()\n",
    "HUGGINGFACE_API_KEY= os.getenv(\"HUGGINGFACE_API_KEY\")\n",
    "login(HUGGINGFACE_API_KEY)"
   ]
  },
  {
   "cell_type": "code",
   "execution_count": null,
   "id": "adba8e70",
   "metadata": {},
   "outputs": [],
   "source": [
    "dataset = load_dataset(\"Savoxism/andrew_tate_long_form\")\n",
    "dataset"
   ]
  },
  {
   "cell_type": "code",
   "execution_count": null,
   "id": "1db5268b",
   "metadata": {},
   "outputs": [],
   "source": [
    "folder_path = \"data_2\"\n",
    "print(f\"Loading local files from {folder_path}...\")\n",
    "local_data = []\n",
    "\n",
    "file_paths = glob.glob(os.path.join(folder_path, \"*.txt\"))\n",
    "\n",
    "for file_path in tqdm(file_paths, desc=\"Reading local files\"):\n",
    "    file_id = os.path.basename(file_path).split('.')[0]\n",
    "    try:\n",
    "        with open(file_path, 'r', encoding='utf-8') as f:\n",
    "            content = f.read()\n",
    "        local_data.append({\"id\": file_id, \"content\": content})\n",
    "    except Exception as e:\n",
    "        print(f\"Error reading {file_path}: {e}\")"
   ]
  },
  {
   "cell_type": "code",
   "execution_count": null,
   "id": "75891241",
   "metadata": {},
   "outputs": [],
   "source": [
    "combined_data = []\n",
    "\n",
    "if 'train' in dataset:\n",
    "    for item in tqdm(dataset['train'], desc=\"processing hf dataset\"):\n",
    "        combined_data.append(\n",
    "            {\"id\": item[\"id\"],\n",
    "             \"content\": item[\"content\"]\n",
    "            }\n",
    "        )\n",
    "\n",
    "combined_data.extend(local_data)"
   ]
  },
  {
   "cell_type": "code",
   "execution_count": null,
   "id": "44e44d13",
   "metadata": {},
   "outputs": [],
   "source": [
    "output_path = \"combined_dataset.json\"\n",
    "with open(output_path, 'w', encoding='utf-8') as f:\n",
    "    json.dump(combined_data, f, ensure_ascii=False, indent=2)\n",
    "    print(f\"saved {len(combined_data)} items to {output_path}\")"
   ]
  },
  {
   "cell_type": "code",
   "execution_count": null,
   "id": "38f4c094",
   "metadata": {},
   "outputs": [],
   "source": [
    "hf_dataset_features = Features(\n",
    "    {\"id\": Value(\"string\"),\n",
    "     \"content\": Value(\"string\")\n",
    "    }\n",
    ")\n",
    "\n",
    "hf_dataset = Dataset.from_list(combined_data, features=hf_dataset_features)"
   ]
  },
  {
   "cell_type": "code",
   "execution_count": null,
   "id": "fd171408",
   "metadata": {},
   "outputs": [],
   "source": [
    "hf_dataset"
   ]
  },
  {
   "cell_type": "code",
   "execution_count": null,
   "id": "5140ae69",
   "metadata": {},
   "outputs": [],
   "source": [
    "hf_dataset.push_to_hub(\n",
    "    \"Savoxism/andrew_tate_long_form_final\",\n",
    "    token=HUGGINGFACE_API_KEY,\n",
    "    private=False,\n",
    "    commit_message=\"Upload combined dataset with local files\"\n",
    ")\n",
    "\n",
    "print(\"done\")"
   ]
  }
 ],
 "metadata": {
  "kernelspec": {
   "display_name": "venv",
   "language": "python",
   "name": "python3"
  },
  "language_info": {
   "codemirror_mode": {
    "name": "ipython",
    "version": 3
   },
   "file_extension": ".py",
   "mimetype": "text/x-python",
   "name": "python",
   "nbconvert_exporter": "python",
   "pygments_lexer": "ipython3",
   "version": "3.9.6"
  }
 },
 "nbformat": 4,
 "nbformat_minor": 5
}
