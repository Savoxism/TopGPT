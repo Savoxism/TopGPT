{
 "cells": [
  {
   "cell_type": "code",
   "execution_count": null,
   "id": "adba8e70",
   "metadata": {},
   "outputs": [],
   "source": [
    "import os\n",
    "import json\n",
    "import glob\n",
    "from tqdm import tqdm\n",
    "from datasets import load_dataset, Dataset, Features, Value\n",
    "\n",
    "dataset = load_dataset(\"Savoxism/andrew-tate-long-form\")\n",
    "dataset"
   ]
  },
  {
   "cell_type": "code",
   "execution_count": null,
   "id": "6f2851f1",
   "metadata": {},
   "outputs": [],
   "source": [
    "from huggingface_hub import login\n",
    "from dotenv import load_dotenv\n",
    "load_dotenv()\n",
    "\n",
    "HUGGINGFACE_API_KEY= os.getenv(\"HUGGINGFACE_API_KEY\")\n",
    "login(HUGGINGFACE_API_KEY)"
   ]
  },
  {
   "cell_type": "code",
   "execution_count": null,
   "id": "1db5268b",
   "metadata": {},
   "outputs": [],
   "source": [
    "folder_path = \"vast_1\"\n",
    "print(f\"Loading local files from {folder_path}...\")\n",
    "local_data = []\n",
    "\n",
    "file_paths = glob.glob(os.path.join(folder_path, \"*.txt\"))\n",
    "\n",
    "for file_path in tqdm(file_paths, desc=\"Reading local files\"):\n",
    "    file_id = os.path.basename(file_path).split('.')[0]\n",
    "    try:\n",
    "        with open(file_path, 'r', encoding='utf-8') as f:\n",
    "            content = f.read()\n",
    "        local_data.append({\"id\": file_id, \"content\": content})\n",
    "    except Exception as e:\n",
    "        print(f\"Error reading {file_path}: {e}\")"
   ]
  },
  {
   "cell_type": "code",
   "execution_count": null,
   "id": "78ebded2",
   "metadata": {},
   "outputs": [],
   "source": [
    "def concatenate_datasets(hf_dataset, local_data):\n",
    "    print(\"Concatenating datasets...\")\n",
    "    \n",
    "    combined_data = []\n",
    "    \n",
    "    if 'train' in hf_dataset:\n",
    "        for item in tqdm(hf_dataset['train'], desc=\"Processing HF dataset\"):\n",
    "            combined_data.append({\"id\": item[\"id\"], \"content\": item[\"content\"]})\n",
    "    \n",
    "    combined_data.extend(local_data)\n",
    "    \n",
    "    return combined_data\n",
    "\n",
    "\n",
    "def save_combined_dataset(combined_data, output_path=\"combined_dataset.json\"):\n",
    "    print(f\"Saving combined dataset to {output_path}...\")\n",
    "    with open(output_path, 'w', encoding='utf-8') as f:\n",
    "        json.dump(combined_data, f, ensure_ascii=False, indent=2)\n",
    "    print(f\"Saved {len(combined_data)} records to {output_path}\")\n",
    "\n",
    "\n",
    "combined_data = concatenate_datasets(dataset, local_data)\n",
    "save_combined_dataset(combined_data)\n",
    "    \n",
    "print(\"Dataset processing complete!\")"
   ]
  },
  {
   "cell_type": "code",
   "execution_count": null,
   "id": "3ec0909f",
   "metadata": {},
   "outputs": [],
   "source": [
    "print(\"Converting combined data to Huggingface dataset format...\")\n",
    "features = Features({\n",
    "    'id': Value('string'),\n",
    "    'content': Value('string')\n",
    "})\n",
    "\n",
    "hf_dataset = Dataset.from_list(combined_data, features=features)\n",
    "\n",
    "\n",
    "print(\"Pushing dataset to Huggingface Hub...\")\n",
    "hf_dataset.push_to_hub(\n",
    "    \"Savoxism/andrew-tate-long-form_2\",\n",
    "    token=None,  \n",
    "    private=False,  \n",
    "    commit_message=\"Upload combined dataset with additional content\"\n",
    ")\n",
    "\n",
    "print(\"Dataset successfully uploaded to Huggingface!\")"
   ]
  }
 ],
 "metadata": {
  "kernelspec": {
   "display_name": "venv",
   "language": "python",
   "name": "python3"
  },
  "language_info": {
   "codemirror_mode": {
    "name": "ipython",
    "version": 3
   },
   "file_extension": ".py",
   "mimetype": "text/x-python",
   "name": "python",
   "nbconvert_exporter": "python",
   "pygments_lexer": "ipython3",
   "version": "3.9.6"
  }
 },
 "nbformat": 4,
 "nbformat_minor": 5
}
