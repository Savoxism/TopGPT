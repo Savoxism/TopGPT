{
 "cells": [
  {
   "cell_type": "markdown",
   "id": "5325f737",
   "metadata": {},
   "source": [
    "# GPT-2 SFT + DPO Pipeline\n",
    "\n",
    "This notebook fine-tunes a GPT-2 model with Supervised Fine-Tuning (SFT) and then aligns it with Direct Preference Optimization (DPO).\n",
    "\n",
    "Template: We have a simple chat template:\n",
    "- Instruction/Response format (no special chat tokens)\n",
    "- Text = \"### Instruction:\\n{question}\\n\\n### Response:\\n{answer}{eos}\""
   ]
  },
  {
   "cell_type": "markdown",
   "id": "68fa6f69",
   "metadata": {},
   "source": [
    "## 1. Setup"
   ]
  },
  {
   "cell_type": "code",
   "execution_count": null,
   "id": "29c01839-05e0-41d9-90f2-f3622a5ca984",
   "metadata": {},
   "outputs": [],
   "source": [
    "!nvidia-smi"
   ]
  },
  {
   "cell_type": "code",
   "execution_count": null,
   "id": "e684d338",
   "metadata": {
    "scrolled": true
   },
   "outputs": [],
   "source": [
    "!pip install datasets transformers trl peft bitsandbytes accelerate colorama"
   ]
  },
  {
   "cell_type": "code",
   "execution_count": null,
   "id": "07cbf921",
   "metadata": {},
   "outputs": [],
   "source": [
    "from huggingface_hub import login \n",
    "HF_API_KEY = \"insert\n",
    "login(HF_API_KEY)"
   ]
  },
  {
   "cell_type": "code",
   "execution_count": null,
   "id": "f97342ab",
   "metadata": {},
   "outputs": [],
   "source": [
    "import os, warnings, random\n",
    "import torch\n",
    "from datasets import load_dataset\n",
    "from transformers import AutoTokenizer, AutoModelForCausalLM, BitsAndBytesConfig\n",
    "from peft import LoraConfig, prepare_model_for_kbit_training\n",
    "from trl import SFTTrainer, SFTConfig, DPOTrainer, DPOConfig\n",
    "from colorama import Fore, Style\n",
    "\n",
    "warnings.filterwarnings('ignore')\n",
    "device = 'cuda' if torch.cuda.is_available() else ('mps' if torch.backends.mps.is_available() else 'cpu')\n",
    "print(Fore.CYAN + f'Using device: {device}' + Style.RESET_ALL)"
   ]
  },
  {
   "cell_type": "code",
   "execution_count": null,
   "id": "5f8f19ac",
   "metadata": {},
   "outputs": [],
   "source": [
    "# Adjust these paths as needed\n",
    "BASE_MODEL = 'Savoxism/gpt2-large-continued-pretraining'  # Your continued-pretrained GPT-2\n",
    "SFT_INPUT_JSON = 'instructions.json'  # list of {question, answer}\n",
    "DPO_JSONL = 'dpo_train.jsonl'  # jsonl lines: {prompt, chosen, rejected}\n",
    "\n",
    "SFT_OUTPUT_DIR = 'outputs/gpt2_sft'\n",
    "DPO_OUTPUT_DIR = 'outputs/gpt2_dpo'\n",
    "os.makedirs('outputs', exist_ok=True)"
   ]
  },
  {
   "cell_type": "markdown",
   "id": "fa5ace8d",
   "metadata": {},
   "source": [
    "## 2. Supervised Finetuning"
   ]
  },
  {
   "cell_type": "code",
   "execution_count": null,
   "id": "2aad310e",
   "metadata": {},
   "outputs": [],
   "source": [
    "# Expect a local JSON array with: [{'question': str, 'answer': str}, ...]\n",
    "sft_ds = load_dataset('json', data_files=SFT_INPUT_JSON, split='train')\n",
    "print(Fore.YELLOW + f'SFT samples: {len(sft_ds)}' + Style.RESET_ALL)\n",
    "print(sft_ds[0])"
   ]
  },
  {
   "cell_type": "code",
   "execution_count": null,
   "id": "a3fcd08c",
   "metadata": {},
   "outputs": [],
   "source": [
    "tokenizer = AutoTokenizer.from_pretrained(BASE_MODEL)\n",
    "if tokenizer.pad_token is None:\n",
    "    tokenizer.pad_token = tokenizer.eos_token\n",
    "\n",
    "use_bnb = torch.cuda.is_available()  # enable 4-bit only on CUDA\n",
    "quant_config = None\n",
    "\n",
    "if use_bnb:\n",
    "    quant_config = BitsAndBytesConfig(\n",
    "        load_in_4bit=True,\n",
    "        bnb_4bit_use_double_quant=True,\n",
    "        bnb_4bit_quant_type='nf4',\n",
    "        bnb_4bit_compute_dtype=torch.bfloat16,\n",
    "    )\n",
    "\n",
    "model = AutoModelForCausalLM.from_pretrained(\n",
    "    BASE_MODEL,\n",
    "    quantization_config=quant_config if use_bnb else None,\n",
    "    device_map='auto' if use_bnb else None,\n",
    ")\n",
    "model.config.pad_token_id = model.config.eos_token_id\n",
    "\n",
    "if use_bnb:\n",
    "    \n",
    "    model = prepare_model_for_kbit_training(model)\n",
    "print(model.__class__.__name__, 'loaded')"
   ]
  },
  {
   "cell_type": "code",
   "execution_count": null,
   "id": "fed18c6b",
   "metadata": {},
   "outputs": [],
   "source": [
    "def format_gpt2_instruction_template(batch, tokenizer):\n",
    "    samples = []\n",
    "    questions = batch['question']\n",
    "    answers = batch['answer']\n",
    "    for q, a in zip(questions, answers):\n",
    "        txt = f'### Instruction:\\n{q}\\n\\n### Response:\\n{a}{tokenizer.eos_token}'\n",
    "        samples.append(txt)\n",
    "    return {\n",
    "        'instruction': questions,\n",
    "        'response': answers,\n",
    "        'text': samples,\n",
    "    }\n",
    "\n",
    "sft_train = sft_ds.map(lambda x: format_gpt2_instruction_template(x, tokenizer), batched=True)\n",
    "sft_train = sft_train.remove_columns([c for c in sft_train.column_names if c not in ['text']])\n",
    "print(Fore.LIGHTMAGENTA_EX + sft_train[0]['text'][:160] + '...' + Style.RESET_ALL)"
   ]
  },
  {
   "cell_type": "code",
   "execution_count": null,
   "id": "e1504ef6-46e3-4756-b386-b01adaa822b0",
   "metadata": {},
   "outputs": [],
   "source": [
    "sft_train "
   ]
  },
  {
   "cell_type": "code",
   "execution_count": null,
   "id": "dc78d5cb",
   "metadata": {},
   "outputs": [],
   "source": [
    "peft_config = LoraConfig(\n",
    "    r=4,\n",
    "    lora_alpha=8,\n",
    "    lora_dropout=0.05,\n",
    "    target_modules=['c_attn', 'c_proj'],\n",
    "    task_type='CAUSAL_LM',\n",
    " )\n",
    "\n",
    "sft_args = SFTConfig(\n",
    "    output_dir=SFT_OUTPUT_DIR,\n",
    "    num_train_epochs=5,\n",
    "    max_length=256,\n",
    "    per_device_train_batch_size=16,\n",
    "    learning_rate=2e-4,\n",
    "    logging_steps=50,\n",
    "    save_steps=1000, # adjust this\n",
    "    remove_unused_columns=False,\n",
    ")\n",
    "\n",
    "sft_trainer = SFTTrainer(\n",
    "    model = model,\n",
    "    train_dataset=sft_train,\n",
    "    args=sft_args, # adjust this \n",
    "    peft_config=peft_config,\n",
    ")\n",
    "sft_trainer.train()\n",
    "sft_trainer.save_model(SFT_OUTPUT_DIR)"
   ]
  },
  {
   "cell_type": "code",
   "execution_count": null,
   "id": "52f246d6-e69f-4964-ac22-8000c48f92ac",
   "metadata": {},
   "outputs": [],
   "source": [
    "sft_trainer.save_model('gpt2_sft_checkpoint')\n",
    "sft_trainer.model.save_pretrained(\"gpt2_sft\")"
   ]
  },
  {
   "cell_type": "markdown",
   "id": "95fd1043",
   "metadata": {},
   "source": [
    "## 3. Direct Preference Optimization"
   ]
  },
  {
   "cell_type": "code",
   "execution_count": null,
   "id": "b8162a58",
   "metadata": {},
   "outputs": [],
   "source": [
    "# Expect jsonl with lines: { 'prompt': str, 'chosen': str, 'rejected': str }\n",
    "dpo_ds = load_dataset('json', data_files=DPO_JSONL, split='train')\n",
    "print(Fore.YELLOW + f'DPO samples: {len(dpo_ds)}' + Style.RESET_ALL)\n",
    "print(dpo_ds[0])"
   ]
  },
  {
   "cell_type": "code",
   "execution_count": null,
   "id": "d344867a",
   "metadata": {},
   "outputs": [],
   "source": [
    "def to_gpt2_prompt(prompt: str) -> str:\n",
    "    return f'### Instruction:\\n{prompt}\\n\\n### Response:\\n'\n",
    "\n",
    "def map_dpo_record(ex):\n",
    "    p = to_gpt2_prompt(ex['prompt'])\n",
    "    return {\n",
    "        'prompt': p,\n",
    "        'chosen': ex['chosen'],\n",
    "        'rejected': ex['rejected'],\n",
    "    }\n",
    "\n",
    "dpo_ready = dpo_ds.map(map_dpo_record)\n",
    "print(dpo_ready[0]['prompt'][:120])\n",
    "print('chosen:', dpo_ready[0]['chosen'][:100])\n",
    "print('rejected:', dpo_ready[0]['rejected'][:100])"
   ]
  },
  {
   "cell_type": "code",
   "execution_count": null,
   "id": "de30e506",
   "metadata": {},
   "outputs": [],
   "source": [
    "dpo_args = DPOConfig(\n",
    "    output_dir=DPO_OUTPUT_DIR,\n",
    "    num_train_epochs=5, # adjust this carefully too\n",
    "    per_device_train_batch_size=16,\n",
    "    gradient_accumulation_steps=2,\n",
    "    learning_rate=5e-5,\n",
    "    logging_steps=50,\n",
    "    save_steps = 300, # adjust this carefully\n",
    "    max_length=256,\n",
    ")\n",
    "\n",
    "dpo_trainer = DPOTrainer(\n",
    "    model=sft_trainer.model,\n",
    "    args=dpo_args,\n",
    "    train_dataset=dpo_ready,\n",
    "    processing_class=tokenizer,\n",
    "    peft_config=peft_config,\n",
    ")\n",
    "\n",
    "dpo_trainer.train()\n",
    "dpo_trainer.save_model(DPO_OUTPUT_DIR)"
   ]
  },
  {
   "cell_type": "markdown",
   "id": "13f65e95",
   "metadata": {},
   "source": [
    "## Inference"
   ]
  },
  {
   "cell_type": "code",
   "execution_count": null,
   "id": "60446539",
   "metadata": {},
   "outputs": [],
   "source": [
    "def generate_response(model, tokenizer, question: str, max_new_tokens: int = 512) -> str:\n",
    "    prompt = f\"### Instruction:\\n{question}\\n\\n### Response:\\n\" # use the same template as tranining \n",
    "    inputs = tokenizer(prompt, return_tensors=\"pt\").to(model.device)\n",
    "    \n",
    "    outputs = model.generate(\n",
    "        **inputs,\n",
    "        max_new_tokens=max_new_tokens,\n",
    "        temperature=0.7,\n",
    "        top_p=0.9,\n",
    "        repetition_penalty=1.1,\n",
    "        do_sample=True,\n",
    "        pad_token_id=tokenizer.eos_token_id,\n",
    "        eos_token_id=tokenizer.eos_token_id,\n",
    "    )\n",
    "\n",
    "    # Decode the full response\n",
    "    full = tokenizer.decode(outputs[0], skip_special_tokens=True)\n",
    "\n",
    "    # extract the response\n",
    "    response_marker = \"### Response:\\n\"\n",
    "    if response_marker in full:\n",
    "        response = full.split(response_marker, 1)[1].strip()\n",
    "        # Remove any additional instruction blocks that might have been generated\n",
    "        if \"### Instruction:\" in response:\n",
    "            response = response.split(\"### Instruction:\")[0].strip()\n",
    "        return response\n",
    "    else:\n",
    "        return full.strip()"
   ]
  },
  {
   "cell_type": "code",
   "execution_count": null,
   "id": "6524f5f3-69f7-4d5b-8586-f9f54fbf669e",
   "metadata": {},
   "outputs": [],
   "source": [
    "prompt = \"\"\"\n",
    "Hello world\n",
    "\"\"\"\n",
    "\n",
    "answer =generate_response(dpo_trainer.model, tokenizer, prompt, 256)\n",
    "print(answer)"
   ]
  },
  {
   "cell_type": "code",
   "execution_count": null,
   "id": "927e8149-dea6-4409-b8a3-5d8138fbd7b9",
   "metadata": {},
   "outputs": [],
   "source": [
    "import os\n",
    "import torch\n",
    "from transformers import AutoModelForCausalLM, AutoTokenizer\n",
    "from peft import PeftModel\n",
    "\n",
    "MERGED_DIR = \"outputs/gpt2_dpo_merged\"\n",
    "REPO_ID = \"Savoxism/gpt2-large-sft-dpo\"\n",
    "\n",
    "# Load base model in full precision (or fp16 on GPU) for a clean merge\n",
    "use_cuda = torch.cuda.is_available()\n",
    "dtype = torch.float16 if use_cuda else torch.float32\n",
    "\n",
    "base = AutoModelForCausalLM.from_pretrained(\n",
    "    BASE_MODEL,\n",
    "    torch_dtype=dtype,\n",
    "    device_map=\"auto\" if use_cuda else None,\n",
    ")\n",
    "tokenizer = AutoTokenizer.from_pretrained(BASE_MODEL)\n",
    "\n",
    "# Load LoRA adapters saved by DPO and merge\n",
    "peft_model = PeftModel.from_pretrained(base, DPO_OUTPUT_DIR)\n",
    "merged = peft_model.merge_and_unload()\n",
    "\n",
    "os.makedirs(MERGED_DIR, exist_ok=True)\n",
    "merged.save_pretrained(MERGED_DIR, safe_serialization=True)\n",
    "tokenizer.save_pretrained(MERGED_DIR)\n",
    "print(f\"Merged model saved to {MERGED_DIR}\")"
   ]
  },
  {
   "cell_type": "code",
   "execution_count": null,
   "id": "64cd4900-8968-4399-a641-3c283dc2da88",
   "metadata": {},
   "outputs": [],
   "source": [
    "from huggingface_hub import create_repo\n",
    "create_repo(REPO_ID, exist_ok=True)\n",
    "merged.push_to_hub(REPO_ID)\n",
    "tokenizer.push_to_hub(REPO_ID)\n",
    "print(f\"Pushed merged model to https://huggingface.co/{REPO_ID}\")"
   ]
  }
 ],
 "metadata": {
  "kernelspec": {
   "display_name": "Python3 (ipykernel)",
   "language": "python",
   "name": "python3"
  },
  "language_info": {
   "codemirror_mode": {
    "name": "ipython",
    "version": 3
   },
   "file_extension": ".py",
   "mimetype": "text/x-python",
   "name": "python",
   "nbconvert_exporter": "python",
   "pygments_lexer": "ipython3",
   "version": "3.10.12"
  }
 },
 "nbformat": 4,
 "nbformat_minor": 5
}
