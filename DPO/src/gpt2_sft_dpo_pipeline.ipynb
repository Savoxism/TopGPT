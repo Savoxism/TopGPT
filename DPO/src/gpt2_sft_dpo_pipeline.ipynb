{
 "cells": [
  {
   "cell_type": "markdown",
   "id": "5325f737",
   "metadata": {},
   "source": [
    "# GPT-2 SFT + DPO Unified Pipeline\n",
    "\n",
    "This notebook fine-tunes a GPT-2 model with Supervised Fine-Tuning (SFT) and then aligns it with Direct Preference Optimization (DPO).\n",
    "\n",
    "Template: We mimic the GPT-2 instruction formatting used in your SFT notebook:\n",
    "\n",
    "- Instruction/Response format (no special chat tokens)\n",
    "- Text = \"### Instruction:\\n{question}\\n\\n### Response:\\n{answer}{eos}\""
   ]
  },
  {
   "cell_type": "markdown",
   "id": "68fa6f69",
   "metadata": {},
   "source": [
    "## 1. Setup"
   ]
  },
  {
   "cell_type": "code",
   "execution_count": null,
   "id": "e684d338",
   "metadata": {},
   "outputs": [],
   "source": [
    "%%capture\n",
    "!pip -q install datasets transformers trl peft bitsandbytes accelerate colorama"
   ]
  },
  {
   "cell_type": "code",
   "execution_count": null,
   "id": "f97342ab",
   "metadata": {},
   "outputs": [],
   "source": [
    "import os, warnings, random\n",
    "import torch\n",
    "from datasets import load_dataset\n",
    "from transformers import AutoTokenizer, AutoModelForCausalLM, BitsAndBytesConfig\n",
    "from peft import LoraConfig, prepare_model_for_kbit_training\n",
    "from trl import SFTTrainer, SFTConfig, DPOTrainer, DPOConfig\n",
    "from colorama import Fore, Style\n",
    "\n",
    "warnings.filterwarnings('ignore')\n",
    "device = 'cuda' if torch.cuda.is_available() else ('mps' if torch.backends.mps.is_available() else 'cpu')\n",
    "print(Fore.CYAN + f'Using device: {device}' + Style.RESET_ALL)"
   ]
  },
  {
   "cell_type": "markdown",
   "id": "f0663498",
   "metadata": {},
   "source": [
    "## 2. Paths & Base Model"
   ]
  },
  {
   "cell_type": "code",
   "execution_count": null,
   "id": "5f8f19ac",
   "metadata": {},
   "outputs": [],
   "source": [
    "# Adjust these paths as needed\n",
    "BASE_MODEL = 'Savoxism/gpt2-large-continued-pretraining'  # Your continued-pretrained GPT-2\n",
    "SFT_INPUT_JSON = 'instructions.json'  # list of {question, answer}\n",
    "DPO_JSONL = 'DPO/data/dpo_train.jsonl'  # jsonl lines: {prompt, chosen, rejected}\n",
    "\n",
    "SFT_OUTPUT_DIR = 'outputs/gpt2_sft'\n",
    "DPO_OUTPUT_DIR = 'outputs/gpt2_dpo'\n",
    "os.makedirs('outputs', exist_ok=True)"
   ]
  },
  {
   "cell_type": "markdown",
   "id": "fa5ace8d",
   "metadata": {},
   "source": [
    "## 3. Load SFT Dataset"
   ]
  },
  {
   "cell_type": "code",
   "execution_count": null,
   "id": "2aad310e",
   "metadata": {},
   "outputs": [],
   "source": [
    "# Expect a local JSON array with: [{'question': str, 'answer': str}, ...]\n",
    "sft_ds = load_dataset('json', data_files=SFT_INPUT_JSON, split='train')\n",
    "print(Fore.YELLOW + f'SFT samples: {len(sft_ds)}' + Style.RESET_ALL)\n",
    "print(sft_ds[0])"
   ]
  },
  {
   "cell_type": "markdown",
   "id": "0baf6f1b",
   "metadata": {},
   "source": [
    "## 4. Tokenizer & Model (GPT-2)"
   ]
  },
  {
   "cell_type": "code",
   "execution_count": null,
   "id": "a3fcd08c",
   "metadata": {},
   "outputs": [],
   "source": [
    "tokenizer = AutoTokenizer.from_pretrained(BASE_MODEL)\n",
    "if tokenizer.pad_token is None:\n",
    "    tokenizer.pad_token = tokenizer.eos_token\n",
    "\n",
    "use_bnb = torch.cuda.is_available()  # enable 4-bit only on CUDA\n",
    "quant_config = None\n",
    "\n",
    "if use_bnb:\n",
    "    quant_config = BitsAndBytesConfig(\n",
    "        load_in_4bit=True,\n",
    "        bnb_4bit_use_double_quant=True,\n",
    "        bnb_4bit_quant_type='nf4',\n",
    "        bnb_4bit_compute_dtype=torch.bfloat16,\n",
    "    )\n",
    "\n",
    "model = AutoModelForCausalLM.from_pretrained(\n",
    "    BASE_MODEL,\n",
    "    quantization_config=quant_config if use_bnb else None,\n",
    "    device_map='auto' if use_bnb else None,\n",
    ")\n",
    "model.config.pad_token_id = model.config.eos_token_id\n",
    "if use_bnb:\n",
    "    model = prepare_model_for_kbit_training(model)\n",
    "print(model.__class__.__name__, 'loaded')"
   ]
  },
  {
   "cell_type": "markdown",
   "id": "af179e72",
   "metadata": {},
   "source": [
    "## 5. GPT-2 Instruction Template Formatter (mimic SFT notebook)"
   ]
  },
  {
   "cell_type": "code",
   "execution_count": null,
   "id": "fed18c6b",
   "metadata": {},
   "outputs": [],
   "source": [
    "def format_gpt2_instruction_template(batch, tokenizer):\n",
    "    samples = []\n",
    "    questions = batch['question']\n",
    "    answers = batch['answer']\n",
    "    for q, a in zip(questions, answers):\n",
    "        txt = f'### Instruction:\\n{q}\\n\\n### Response:\\n{a}{tokenizer.eos_token}'\n",
    "        samples.append(txt)\n",
    "    return {\n",
    "        'instruction': questions,\n",
    "        'response': answers,\n",
    "        'text': samples,\n",
    "    }\n",
    "\n",
    "sft_train = sft_ds.map(lambda x: format_gpt2_instruction_template(x, tokenizer), batched=True)\n",
    "sft_train = sft_train.remove_columns([c for c in sft_train.column_names if c not in ['text']])\n",
    "print(Fore.LIGHTMAGENTA_EX + sft_train[0]['text'][:160] + '...' + Style.RESET_ALL)"
   ]
  },
  {
   "cell_type": "markdown",
   "id": "0ee1a347",
   "metadata": {},
   "source": [
    "## 6. SFT with LoRA (GPT-2 attention targets)"
   ]
  },
  {
   "cell_type": "code",
   "execution_count": null,
   "id": "dc78d5cb",
   "metadata": {},
   "outputs": [],
   "source": [
    "peft_config = LoraConfig(\n",
    "    r=2,\n",
    "    lora_alpha=4,\n",
    "    lora_dropout=0.05,\n",
    "    target_modules=['c_attn', 'c_proj'],\n",
    "    task_type='CAUSAL_LM',\n",
    " )\n",
    "\n",
    "sft_args = SFTConfig(\n",
    "    output_dir=SFT_OUTPUT_DIR,\n",
    "    num_train_epochs=10,\n",
    "    per_device_train_batch_size=4,\n",
    "    gradient_accumulation_steps=4,\n",
    "    learning_rate=2e-4,\n",
    "    logging_steps=50, # adjust this\n",
    "    save_steps=1000, # adjust this\n",
    "    max_seq_length=256,\n",
    "    remove_unused_columns=False,\n",
    ")\n",
    "\n",
    "sft_trainer = SFTTrainer(\n",
    "    model=model,\n",
    "    args=sft_args,\n",
    "    peft_config=peft_config,\n",
    "    tokenizer=tokenizer,\n",
    "    train_dataset=sft_train,\n",
    "    dataset_text_field='text',\n",
    " )\n",
    "sft_trainer.train()\n",
    "sft_trainer.save_model(SFT_OUTPUT_DIR)"
   ]
  },
  {
   "cell_type": "markdown",
   "id": "95fd1043",
   "metadata": {},
   "source": [
    "## 7. Load DPO Preference Dataset"
   ]
  },
  {
   "cell_type": "code",
   "execution_count": null,
   "id": "b8162a58",
   "metadata": {},
   "outputs": [],
   "source": [
    "# Expect jsonl with lines: { 'prompt': str, 'chosen': str, 'rejected': str }\n",
    "dpo_ds = load_dataset('json', data_files=DPO_JSONL, split='train')\n",
    "print(Fore.YELLOW + f'DPO samples: {len(dpo_ds)}' + Style.RESET_ALL)\n",
    "print(dpo_ds[0])"
   ]
  },
  {
   "cell_type": "markdown",
   "id": "17730a95",
   "metadata": {},
   "source": [
    "## 8. Convert Preference Prompts to GPT-2 Template"
   ]
  },
  {
   "cell_type": "code",
   "execution_count": null,
   "id": "d344867a",
   "metadata": {},
   "outputs": [],
   "source": [
    "def to_gpt2_prompt(prompt: str) -> str:\n",
    "    return f'### Instruction:\\n{prompt}\\n\\n### Response:\\n'\n",
    "\n",
    "def map_dpo_record(ex):\n",
    "    p = to_gpt2_prompt(ex['prompt'])\n",
    "    return {\n",
    "        'prompt': p,\n",
    "        'chosen': ex['chosen'],\n",
    "        'rejected': ex['rejected'],\n",
    "    }\n",
    "\n",
    "dpo_ready = dpo_ds.map(map_dpo_record)\n",
    "print(dpo_ready[0]['prompt'][:120])\n",
    "print('chosen:', dpo_ready[0]['chosen'][:100])\n",
    "print('rejected:', dpo_ready[0]['rejected'][:100])"
   ]
  },
  {
   "cell_type": "markdown",
   "id": "a36cb9d8",
   "metadata": {},
   "source": [
    "## 9. DPO Training (reuse LoRA alignment)"
   ]
  },
  {
   "cell_type": "code",
   "execution_count": null,
   "id": "de30e506",
   "metadata": {},
   "outputs": [],
   "source": [
    "# Continue from SFT-adapted model in memory\n",
    "dpo_args = DPOConfig(\n",
    "    output_dir=DPO_OUTPUT_DIR,\n",
    "    per_device_train_batch_size=2,\n",
    "    gradient_accumulation_steps=8,\n",
    "    learning_rate=5e-5,\n",
    "    logging_steps=50,\n",
    "    max_length=256,\n",
    ")\n",
    "\n",
    "dpo_trainer = DPOTrainer(\n",
    "    model=sft_trainer.model,\n",
    "    args=dpo_args,\n",
    "    train_dataset=dpo_ready,\n",
    "    processing_class=tokenizer,\n",
    "    peft_config=peft_config,\n",
    ")\n",
    "\n",
    "dpo_trainer.train()\n",
    "dpo_trainer.save_model(DPO_OUTPUT_DIR)"
   ]
  },
  {
   "cell_type": "markdown",
   "id": "13f65e95",
   "metadata": {},
   "source": [
    "## 10. Inference"
   ]
  },
  {
   "cell_type": "code",
   "execution_count": null,
   "id": "60446539",
   "metadata": {},
   "outputs": [],
   "source": [
    "def gpt2_infer(model, tokenizer, instruction: str, max_new_tokens: int = 256):\n",
    "    prompt = f'### Instruction:\\n{instruction}\\n\\n### Response:\\n'\n",
    "    inputs = tokenizer(prompt, return_tensors='pt').to(model.device)\n",
    "    with torch.no_grad():\n",
    "        out = model.generate(**inputs, max_new_tokens=max_new_tokens, do_sample=True, top_p=0.9, temperature=0.8)\n",
    "    gen = out[0][inputs['input_ids'].shape[1]:]\n",
    "    return tokenizer.decode(gen, skip_special_tokens=True).strip()\n",
    "\n",
    "print(gpt2_infer(dpo_trainer.model, tokenizer, 'How can I stay disciplined every day?')[:400])"
   ]
  }
 ],
 "metadata": {
  "kernelspec": {
   "display_name": "venv",
   "language": "python",
   "name": "python3"
  },
  "language_info": {
   "name": "python",
   "version": "3.9.6"
  }
 },
 "nbformat": 4,
 "nbformat_minor": 5
}
