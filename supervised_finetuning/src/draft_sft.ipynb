{
 "cells": [
  {
   "cell_type": "markdown",
   "id": "d2f7d3d3",
   "metadata": {},
   "source": [
    "# 1. Setup"
   ]
  },
  {
   "cell_type": "code",
   "execution_count": null,
   "id": "45635e45-22c7-4cff-b7b2-1f0ba69fa2cd",
   "metadata": {},
   "outputs": [],
   "source": [
    "!nvidia-smi"
   ]
  },
  {
   "cell_type": "code",
   "execution_count": null,
   "id": "4040d152",
   "metadata": {},
   "outputs": [],
   "source": [
    "!pip -q install datasets transformers colorama peft bitsandbytes torch trl"
   ]
  },
  {
   "cell_type": "code",
   "execution_count": null,
   "id": "79c64e07-3e87-4cf7-8a63-5cfd2c1f3a4a",
   "metadata": {},
   "outputs": [],
   "source": [
    "from huggingface_hub import login\n",
    "HF_API_KEY = \"insert here\"\n",
    "login(HF_API_KEY)"
   ]
  },
  {
   "cell_type": "markdown",
   "id": "34cc69bc",
   "metadata": {},
   "source": [
    "# 2. Dataset"
   ]
  },
  {
   "cell_type": "code",
   "execution_count": null,
   "id": "7d6f9fed-ef14-4750-ba69-237df31f0729",
   "metadata": {},
   "outputs": [],
   "source": [
    "from datasets import load_dataset\n",
    "from colorama import Fore\n",
    "\n",
    "dataset = load_dataset(\"data\", split='train')\n",
    "print(Fore.YELLOW + str(dataset[2]) + Fore.RESET)"
   ]
  },
  {
   "cell_type": "code",
   "execution_count": null,
   "id": "6fb0a4bc-213f-4a6a-a67a-a92f6b012b2f",
   "metadata": {},
   "outputs": [],
   "source": [
    "from transformers import AutoTokenizer, AutoModelForCausalLM, BitsAndBytesConfig\n",
    "from trl import SFTTrainer, SFTConfig\n",
    "from peft import LoraConfig, prepare_model_for_kbit_training\n",
    "import torch\n",
    " \n",
    "def format_chat_template(batch, tokenizer):\n",
    "    system_prompt =  \"\"\"You are a helpful, honest and harmless assitant designed to help engineers. Think through each question logically and provide an answer. Don't make things up, if you're unable to answer a question advise the user that you're unable to answer as it is outside of your scope.\"\"\"\n",
    "    samples = []\n",
    "\n",
    "    # Access the inputs from the batch\n",
    "    questions = batch[\"question\"]\n",
    "    answers = batch[\"answer\"]\n",
    "\n",
    "    for i in range(len(questions)):\n",
    "        row_json = [\n",
    "            {\"role\": \"system\", \"content\": system_prompt},\n",
    "            {\"role\": \"user\", \"content\": questions[i]},\n",
    "            {\"role\": \"assistant\", \"content\": answers[i]}\n",
    "        ]\n",
    "\n",
    "        # Apply chat template and append the result to the list\n",
    "        tokenizer.chat_template = \"{% set loop_messages = messages %}{% for message in loop_messages %}{% set content = '<|start_header_id|>' + message['role'] + '<|end_header_id|>\\n\\n'+ message['content'] | trim + '<|eot_id|>' %}{% if loop.index0 == 0 %}{% set content = bos_token + content %}{% endif %}{{ content }}{% endfor %}{% if add_generation_prompt %}{{ '<|start_header_id|>assistant<|end_header_id|>\\n\\n' }}{% endif %}\"\n",
    "        text = tokenizer.apply_chat_template(row_json, tokenize=False)\n",
    "        samples.append(text)\n",
    "\n",
    "    return {\n",
    "        \"instruction\": questions,\n",
    "        \"response\": answers,\n",
    "        \"text\": samples  # The processed chat template text for each row\n",
    "    }"
   ]
  },
  {
   "cell_type": "markdown",
   "id": "eee756b4",
   "metadata": {},
   "source": [
    "# 3. Model & Tokenizer"
   ]
  },
  {
   "cell_type": "code",
   "execution_count": null,
   "id": "85566a9d-1bfd-4daa-91d3-c515a903520c",
   "metadata": {},
   "outputs": [],
   "source": [
    "base_model = \"meta-llama/Llama-3.2-1B\"\n",
    "tokenizer = AutoTokenizer.from_pretrained(\n",
    "        base_model, \n",
    "        trust_remote_code=True,\n",
    "        token=\"insert here\"  # replace with your Hugging Face token,\n",
    ")\n",
    "\n",
    "train_dataset = dataset.map(lambda x: format_chat_template(x, tokenizer), num_proc=8, batched=True, batch_size=10)\n",
    "print(Fore.LIGHTMAGENTA_EX + str(train_dataset[0]) + Fore.RESET) "
   ]
  },
  {
   "cell_type": "code",
   "execution_count": null,
   "id": "0aca6808-5d68-4bc7-a136-ec86a6f376e5",
   "metadata": {},
   "outputs": [],
   "source": [
    "quant_config = BitsAndBytesConfig(\n",
    "    load_in_4bit=True,\n",
    "    bnb_4bit_use_double_quant=True,\n",
    "    bnb_4bit_quant_type=\"nf4\",\n",
    "    bnb_4bit_compute_dtype=torch.bfloat16,\n",
    ")\n",
    "\n",
    "model = AutoModelForCausalLM.from_pretrained(\n",
    "    base_model,\n",
    "    device_map=\"cuda:0\",\n",
    "    quantization_config=quant_config,\n",
    "    token=\"insert here\",  # replace with your Hugging Face token,\n",
    "    cache_dir=\"./root\",\n",
    ")\n",
    "\n",
    "model.gradient_checkpointing_enable()\n",
    "model = prepare_model_for_kbit_training(model)"
   ]
  },
  {
   "cell_type": "code",
   "execution_count": null,
   "id": "b3580c3c-5705-4f67-892b-a49d1e438384",
   "metadata": {},
   "outputs": [],
   "source": [
    "model"
   ]
  },
  {
   "cell_type": "code",
   "execution_count": null,
   "id": "b2cc5885-98ee-4f3e-b41d-7f1af7802b52",
   "metadata": {},
   "outputs": [],
   "source": [
    "peft_config = LoraConfig(\n",
    "    r=256,\n",
    "    lora_alpha=512,\n",
    "    lora_dropout=0.05,\n",
    "    target_modules=\"all-linear\",\n",
    "    task_type=\"CAUSAL_LM\",\n",
    ")\n",
    "\n",
    "trainer = SFTTrainer(\n",
    "    model,\n",
    "    train_dataset=train_dataset,\n",
    "    args=SFTConfig(output_dir=\"meta-llama/Llama-3.2-1B-SFT\", num_train_epochs=35), # adjust this \n",
    "    peft_config=peft_config,\n",
    ")"
   ]
  },
  {
   "cell_type": "markdown",
   "id": "4b8867fb",
   "metadata": {},
   "source": [
    "# 4. Training"
   ]
  },
  {
   "cell_type": "code",
   "execution_count": null,
   "id": "b6c8747a",
   "metadata": {},
   "outputs": [],
   "source": [
    "trainer.train()"
   ]
  },
  {
   "cell_type": "code",
   "execution_count": null,
   "id": "db4d8872-328d-4c0a-a416-f791fc94c7b8",
   "metadata": {},
   "outputs": [],
   "source": [
    "trainer.save_model('complete_checkpoint')\n",
    "trainer.model.save_pretrained(\"final_model\")"
   ]
  },
  {
   "cell_type": "markdown",
   "id": "e922d959",
   "metadata": {},
   "source": [
    "# 5. Merging Model"
   ]
  },
  {
   "cell_type": "code",
   "execution_count": null,
   "id": "c60c2580-5209-4c86-98f7-edde374b46af",
   "metadata": {},
   "outputs": [],
   "source": [
    "from transformers import AutoModelForCausalLM, AutoTokenizer\n",
    "from peft import PeftModel\n",
    "import os\n",
    "\n",
    "BASE_MODEL = \"meta-llama/Llama-3.2-1B\" # adjust this       \n",
    "ADAPTER_DIR = \"complete_checkpoint\"        \n",
    "MERGED_DIR  = \"llama-3.2-1B-merged\"   # adjust this       \n",
    "REPO_ID     = \"Savoxism/llama-3.2-1B-1st-version\" # adjust this       \n",
    "\n",
    "base = AutoModelForCausalLM.from_pretrained(BASE_MODEL)\n",
    "tokenizer = AutoTokenizer.from_pretrained(BASE_MODEL)\n",
    "peft_model = PeftModel.from_pretrained(base, ADAPTER_DIR)\n",
    "\n",
    "merged = peft_model.merge_and_unload()\n",
    "\n",
    "os.makedirs(MERGED_DIR, exist_ok=True)\n",
    "merged.save_pretrained(MERGED_DIR)\n",
    "tokenizer.save_pretrained(MERGED_DIR)"
   ]
  },
  {
   "cell_type": "code",
   "execution_count": null,
   "id": "e6af11e6-e9df-425e-a1fa-7949ee853e48",
   "metadata": {},
   "outputs": [],
   "source": [
    "merged.push_to_hub(REPO_ID, use_auth_token=True)"
   ]
  }
 ],
 "metadata": {
  "kernelspec": {
   "display_name": "Python3 (ipykernel)",
   "language": "python",
   "name": "python3"
  },
  "language_info": {
   "codemirror_mode": {
    "name": "ipython",
    "version": 3
   },
   "file_extension": ".py",
   "mimetype": "text/x-python",
   "name": "python",
   "nbconvert_exporter": "python",
   "pygments_lexer": "ipython3",
   "version": "3.10.12"
  }
 },
 "nbformat": 4,
 "nbformat_minor": 5
}
