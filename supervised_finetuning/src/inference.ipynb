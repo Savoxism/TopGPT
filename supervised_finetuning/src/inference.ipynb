{
 "cells": [
  {
   "cell_type": "code",
   "execution_count": null,
   "metadata": {
    "trusted": true
   },
   "outputs": [],
   "source": [
    "from huggingface_hub import login \n",
    "HF_API_KEY = \"insert\"\n",
    "login(HF_API_KEY)"
   ]
  },
  {
   "cell_type": "code",
   "execution_count": null,
   "metadata": {
    "_cell_guid": "b1076dfc-b9ad-4769-8c92-a6c4dae69d19",
    "_uuid": "8f2839f25d086af736a60e9eeb907d3b93b6e0e5",
    "trusted": true
   },
   "outputs": [],
   "source": [
    "from transformers import AutoModelForCausalLM, AutoTokenizer\n",
    "from colorama import Fore\n",
    "import torch\n",
    "\n",
    "MERGED_DIR = \"Savoxism/gpt2-instruction-finetuned\"  # Update to your GPT-2 model\n",
    "\n",
    "print(f\"{Fore.CYAN}Loading tokenizer and model from {MERGED_DIR}…{Fore.RESET}\")\n",
    "tokenizer = AutoTokenizer.from_pretrained(\n",
    "    MERGED_DIR,\n",
    "    use_fast=True\n",
    ")\n",
    "\n",
    "# Set pad token for GPT-2 if not already set\n",
    "if tokenizer.pad_token is None:\n",
    "    tokenizer.pad_token = tokenizer.eos_token\n",
    "\n",
    "model = AutoModelForCausalLM.from_pretrained(\n",
    "    MERGED_DIR,\n",
    "    torch_dtype=torch.float16,\n",
    "    device_map=\"auto\"\n",
    ")\n",
    "print(f\"{Fore.GREEN}Loaded successfully!{Fore.RESET}\")"
   ]
  },
  {
   "cell_type": "code",
   "execution_count": null,
   "metadata": {
    "trusted": true
   },
   "outputs": [],
   "source": [
    "def generate_response(model, tokenizer, question: str) -> str:\n",
    "    \"\"\"\n",
    "    Generate response using GPT-2 instruction format.\n",
    "    Uses the same template as training: ### Instruction: ... ### Response: ...\n",
    "    \"\"\"\n",
    "    # Format the prompt using the same template as training\n",
    "    prompt = f\"### Instruction:\\n{question}\\n\\n### Response:\\n\"\n",
    "    \n",
    "    print(f\"Prompt:\\n{prompt}\\n\")\n",
    "\n",
    "    inputs = tokenizer(prompt, return_tensors=\"pt\").to(model.device)\n",
    "    \n",
    "    outputs = model.generate(\n",
    "        **inputs,\n",
    "        max_new_tokens=256,\n",
    "        temperature=0.7,\n",
    "        top_p=0.9,\n",
    "        repetition_penalty=1.1,\n",
    "        do_sample=True,\n",
    "        pad_token_id=tokenizer.eos_token_id,\n",
    "        eos_token_id=tokenizer.eos_token_id,\n",
    "    )\n",
    "\n",
    "    # Decode the full response\n",
    "    full = tokenizer.decode(outputs[0], skip_special_tokens=True)\n",
    "    \n",
    "    # Extract only the response part after \"### Response:\"\n",
    "    response_marker = \"### Response:\\n\"\n",
    "    if response_marker in full:\n",
    "        response = full.split(response_marker, 1)[1].strip()\n",
    "        # Remove any additional instruction blocks that might have been generated\n",
    "        if \"### Instruction:\" in response:\n",
    "            response = response.split(\"### Instruction:\")[0].strip()\n",
    "        return response\n",
    "    else:\n",
    "        return full.strip()"
   ]
  },
  {
   "cell_type": "code",
   "execution_count": null,
   "metadata": {
    "trusted": true
   },
   "outputs": [],
   "source": [
    "from colorama import Fore, Style\n",
    "question = \"In a TM1 cube, what's the minimum number of dimensions?\"\n",
    "print(f\"{Fore.CYAN}Question: {question}{Style.RESET_ALL}\\n\")\n",
    "answer = generate_response(model, tokenizer, question)\n",
    "print(f\"{Fore.GREEN}Answer: {answer}{Style.RESET_ALL}\")"
   ]
  },
  {
   "cell_type": "code",
   "execution_count": null,
   "metadata": {
    "trusted": true
   },
   "outputs": [],
   "source": [
    "# Test with multiple questions\n",
    "test_questions = [\n",
    "    \"What advice do you have for someone starting their career?\",\n",
    "    \"How do you optimize TM1 cube performance?\",\n",
    "    \"What are the best practices for data modeling?\",\n",
    "    \"Explain the difference between FEEDERS and DB functions in TM1.\"\n",
    "]\n",
    "\n",
    "for i, question in enumerate(test_questions, 1):\n",
    "    print(f\"{Fore.YELLOW}Test {i}: {question}{Style.RESET_ALL}\")\n",
    "    answer = generate_response(model, tokenizer, question)\n",
    "    print(f\"{Fore.GREEN}Answer: {answer}{Style.RESET_ALL}\")\n",
    "    print(\"-\" * 80)"
   ]
  }
 ],
 "metadata": {
  "kaggle": {
   "accelerator": "none",
   "dataSources": [],
   "dockerImageVersionId": 31090,
   "isGpuEnabled": false,
   "isInternetEnabled": true,
   "language": "python",
   "sourceType": "notebook"
  },
  "kernelspec": {
   "display_name": "Python 3",
   "language": "python",
   "name": "python3"
  },
  "language_info": {
   "codemirror_mode": {
    "name": "ipython",
    "version": 3
   },
   "file_extension": ".py",
   "mimetype": "text/x-python",
   "name": "python",
   "nbconvert_exporter": "python",
   "pygments_lexer": "ipython3",
   "version": "3.11.13"
  }
 },
 "nbformat": 4,
 "nbformat_minor": 4
}
