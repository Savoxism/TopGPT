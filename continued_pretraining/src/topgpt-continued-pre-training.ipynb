{
 "cells": [
  {
   "cell_type": "markdown",
   "metadata": {},
   "source": [
    "# TopGPT Continued Pretraining"
   ]
  },
  {
   "cell_type": "markdown",
   "metadata": {},
   "source": [
    "# 1. Setup"
   ]
  },
  {
   "cell_type": "code",
   "execution_count": null,
   "metadata": {
    "execution": {
     "iopub.execute_input": "2025-08-03T14:47:08.000925Z",
     "iopub.status.busy": "2025-08-03T14:47:08.000647Z",
     "iopub.status.idle": "2025-08-03T14:47:08.169726Z",
     "shell.execute_reply": "2025-08-03T14:47:08.168832Z",
     "shell.execute_reply.started": "2025-08-03T14:47:08.000897Z"
    },
    "trusted": true
   },
   "outputs": [],
   "source": [
    "!nvidia-smi"
   ]
  },
  {
   "cell_type": "code",
   "execution_count": null,
   "metadata": {
    "scrolled": true,
    "trusted": true
   },
   "outputs": [],
   "source": [
    "%%capture\n",
    "!pip install -q transformers datasets accelerate tqdm torch "
   ]
  },
  {
   "cell_type": "code",
   "execution_count": null,
   "metadata": {
    "trusted": true
   },
   "outputs": [],
   "source": [
    "import os, math, torch, random\n",
    "from datasets import load_dataset\n",
    "from transformers import (\n",
    "    GPT2TokenizerFast,\n",
    "    GPT2LMHeadModel,\n",
    "    DataCollatorForLanguageModeling,\n",
    "    get_linear_schedule_with_warmup,\n",
    ")\n",
    "from transformers import pipeline, GPT2TokenizerFast, GPT2LMHeadModel\n",
    "from torch.optim import AdamW\n",
    "from accelerate import Accelerator\n",
    "from tqdm.auto import tqdm\n",
    "\n",
    "from huggingface_hub import login\n",
    "HF_API_KEY = \"insert\"\n",
    "login(HF_API_KEY)"
   ]
  },
  {
   "cell_type": "code",
   "execution_count": null,
   "metadata": {
    "trusted": true
   },
   "outputs": [],
   "source": [
    "# CONFIGURATION\n",
    "MODEL_NAME   = \"gpt2-large\" # openai-community/gpt2-large\n",
    "DATASET_ID   = \"Savoxism/andrew_tate_long_form_final\"\n",
    "BLOCK_SIZE   = 1024          # context length\n",
    "BATCH_SIZE   = 64             # batch per device\n",
    "NUM_EPOCHS   = 10\n",
    "LR           = 5e-5\n",
    "WARMUP_RATIO = 0.1\n",
    "GRAD_ACCUM   = 1             # tổng effective batch = BATCH_SIZE*GRAD_ACCUM\n",
    "MIXED_PREC   = \"bf16\" if torch.cuda.is_available() else \"no\"\n",
    "SEED         = 42\n",
    "OUT_DIR      = \"./gpt2-large-continued\"\n",
    "\n",
    "random.seed(SEED); torch.manual_seed(SEED)\n",
    "acc = Accelerator(mixed_precision=MIXED_PREC)\n",
    "device = acc.device\n",
    "print(f\"Using {device}, mp={MIXED_PREC}\")"
   ]
  },
  {
   "cell_type": "markdown",
   "metadata": {},
   "source": [
    "# Testing"
   ]
  },
  {
   "cell_type": "code",
   "execution_count": null,
   "metadata": {
    "execution": {
     "iopub.execute_input": "2025-08-03T14:54:11.391198Z",
     "iopub.status.busy": "2025-08-03T14:54:11.390602Z",
     "iopub.status.idle": "2025-08-03T14:54:13.025549Z",
     "shell.execute_reply": "2025-08-03T14:54:13.024924Z",
     "shell.execute_reply.started": "2025-08-03T14:54:11.391173Z"
    },
    "trusted": true
   },
   "outputs": [],
   "source": [
    "import torch\n",
    "from transformers import pipeline, GPT2TokenizerFast, GPT2LMHeadModel\n",
    "\n",
    "model_id = \"Savoxism/gpt2-large-continued-pretraining\" # continually pretrained model\n",
    "\n",
    "gen_pipe = pipeline(\n",
    "    \"text-generation\",\n",
    "    model= model_id,\n",
    "    tokenizer=model_id,\n",
    "    device=0 if torch.cuda.is_available() else -1,\n",
    ")"
   ]
  },
  {
   "cell_type": "code",
   "execution_count": null,
   "metadata": {
    "execution": {
     "iopub.execute_input": "2025-08-03T14:55:06.649334Z",
     "iopub.status.busy": "2025-08-03T14:55:06.648701Z",
     "iopub.status.idle": "2025-08-03T14:55:19.255819Z",
     "shell.execute_reply": "2025-08-03T14:55:19.255013Z",
     "shell.execute_reply.started": "2025-08-03T14:55:06.649310Z"
    },
    "trusted": true
   },
   "outputs": [],
   "source": [
    "prompt = \"\"\"\n",
    "What should I do to get women?\n",
    "\"\"\"\n",
    "\n",
    "for out in gen_pipe(\n",
    "    prompt,\n",
    "    # max_length=512,\n",
    "    max_new_tokens=512,\n",
    "    do_sample=True,\n",
    "    top_k=50,\n",
    "    top_p=0.9,\n",
    "    temperature=0.8,\n",
    "    num_return_sequences=1,\n",
    "    pad_token_id=gen_pipe.tokenizer.eos_token_id,\n",
    "):\n",
    "    print(out[\"generated_text\"], end=\"\", flush=True)"
   ]
  },
  {
   "cell_type": "markdown",
   "metadata": {},
   "source": [
    "# Tokenizing"
   ]
  },
  {
   "cell_type": "code",
   "execution_count": null,
   "metadata": {
    "trusted": true
   },
   "outputs": [],
   "source": [
    "raw_ds = load_dataset(DATASET_ID, split='train')\n",
    "\n",
    "tok = GPT2TokenizerFast.from_pretrained(MODEL_NAME)\n",
    "tok.pad_token = tok.eos_token        # GPT‑2 không có [PAD]; dùng eos_token\n",
    "\n",
    "def tokenize(examples):\n",
    "    return tok(examples[\"content\"])\n",
    "\n",
    "tok_ds = raw_ds.map(\n",
    "    tokenize,\n",
    "    batched=True,\n",
    "    remove_columns=raw_ds.column_names,\n",
    "    desc=\"Tokenising\",\n",
    ")"
   ]
  },
  {
   "cell_type": "code",
   "execution_count": null,
   "metadata": {
    "trusted": true
   },
   "outputs": [],
   "source": [
    "def group_texts(examples):\n",
    "    concat = {k: sum(examples[k], []) for k in examples.keys()}\n",
    "    total_len = (len(concat[\"input_ids\"]) // BLOCK_SIZE) * BLOCK_SIZE\n",
    "    result = {\n",
    "        k: [t[i : i + BLOCK_SIZE] for i in range(0, total_len, BLOCK_SIZE)]\n",
    "        for k, t in concat.items()\n",
    "    }\n",
    "    result[\"labels\"] = result[\"input_ids\"].copy()   # causal LM\n",
    "    return result\n",
    "\n",
    "lm_ds = tok_ds.map(group_texts, batched=True, desc=\"Grouping into blocks\")\n",
    "\n",
    "collator = DataCollatorForLanguageModeling(tok, mlm=False)\n",
    "train_loader = torch.utils.data.DataLoader(\n",
    "    lm_ds,\n",
    "    batch_size=BATCH_SIZE,\n",
    "    shuffle=True,\n",
    "    collate_fn=collator,\n",
    ")"
   ]
  },
  {
   "cell_type": "markdown",
   "metadata": {},
   "source": [
    "# Modeling"
   ]
  },
  {
   "cell_type": "code",
   "execution_count": null,
   "metadata": {
    "trusted": true
   },
   "outputs": [],
   "source": [
    "model = GPT2LMHeadModel.from_pretrained(MODEL_NAME)\n",
    "model.resize_token_embeddings(len(tok))      \n",
    "\n",
    "optimizer = AdamW(model.parameters(), lr=LR)\n",
    "steps_per_epoch   = math.ceil(len(train_loader) / GRAD_ACCUM)\n",
    "total_train_steps = steps_per_epoch * NUM_EPOCHS\n",
    "scheduler = get_linear_schedule_with_warmup(\n",
    "    optimizer,\n",
    "    num_warmup_steps=int(WARMUP_RATIO * total_train_steps),\n",
    "    num_training_steps=total_train_steps,\n",
    ")\n",
    "\n",
    "model, optimizer, train_loader, scheduler = acc.prepare(model, optimizer, train_loader, scheduler)"
   ]
  },
  {
   "cell_type": "code",
   "execution_count": null,
   "metadata": {
    "trusted": true
   },
   "outputs": [],
   "source": [
    "model.train()\n",
    "progress = tqdm(range(total_train_steps), disable=not acc.is_local_main_process)\n",
    "\n",
    "for epoch in range(NUM_EPOCHS):\n",
    "    running_loss = 0.0\n",
    "    for step, batch in enumerate(train_loader):\n",
    "        outputs = model(**batch)\n",
    "        loss = outputs.loss / GRAD_ACCUM\n",
    "        acc.backward(loss)\n",
    "\n",
    "        if (step + 1) % GRAD_ACCUM == 0:\n",
    "            optimizer.step(); scheduler.step(); optimizer.zero_grad()\n",
    "            progress.update(1)\n",
    "            progress.set_description(f\"Epoch {epoch+1}/{NUM_EPOCHS} • Loss {loss.item():.4f}\")\n",
    "\n",
    "            running_loss += loss.item()\n",
    "\n",
    "    acc.print(f\"Epoch {epoch+1} finished • AvgLoss={running_loss/steps_per_epoch:.4f}\")\n",
    "\n",
    "acc.wait_for_everyone()\n",
    "if acc.is_main_process:\n",
    "    os.makedirs(OUT_DIR, exist_ok=True)\n",
    "    model.save_pretrained(OUT_DIR)\n",
    "    tok.save_pretrained(OUT_DIR)\n",
    "    print(f\"✅ Saved to {OUT_DIR}\")"
   ]
  },
  {
   "cell_type": "code",
   "execution_count": null,
   "metadata": {
    "trusted": true
   },
   "outputs": [],
   "source": [
    "REPO_NAME = \"Savoxism/gpt2-large-continued-pretraining\"\n",
    "\n",
    "model.push_to_hub(\n",
    "    repo_id=REPO_NAME,\n",
    "    token=HF_API_KEY,\n",
    "    commit_message=\"Continued pretraining GPT-2-large on my dataset\"\n",
    ")\n",
    "tok.push_to_hub(\n",
    "    repo_id=REPO_NAME,\n",
    "    token=HF_API_KEY\n",
    ")\n",
    "print(f\"🚀 Pushed to https://huggingface.co/{REPO_NAME}\")"
   ]
  },
  {
   "cell_type": "markdown",
   "metadata": {},
   "source": [
    "# Inference"
   ]
  },
  {
   "cell_type": "code",
   "execution_count": null,
   "metadata": {
    "trusted": true
   },
   "outputs": [],
   "source": [
    "from transformers import pipeline\n",
    "device = 0 if torch.cuda.is_available() else -1\n",
    "\n",
    "chat_pipe = pipeline(\n",
    "    \"text-generation\",\n",
    "    model=OUT_DIR,      \n",
    "    tokenizer= OUT_DIR,\n",
    "    device=device\n",
    ")\n",
    "\n",
    "prompt = \"Hello! Can you tell me a joke?\"\n",
    "out = chat_pipe(\n",
    "    prompt,\n",
    "    max_length=100,\n",
    "    do_sample=True,\n",
    "    top_k=50,\n",
    "    top_p=0.9,\n",
    "    temperature=0.7,\n",
    "    num_return_sequences=1,\n",
    "    pad_token_id=chat_pipe.tokenizer.eos_token_id,\n",
    ")\n",
    "print(out[0][\"generated_text\"])"
   ]
  }
 ],
 "metadata": {
  "kaggle": {
   "accelerator": "gpu",
   "dataSources": [],
   "dockerImageVersionId": 31089,
   "isGpuEnabled": true,
   "isInternetEnabled": true,
   "language": "python",
   "sourceType": "notebook"
  },
  "kernelspec": {
   "display_name": "Python 3",
   "language": "python",
   "name": "python3"
  },
  "language_info": {
   "codemirror_mode": {
    "name": "ipython",
    "version": 3
   },
   "file_extension": ".py",
   "mimetype": "text/x-python",
   "name": "python",
   "nbconvert_exporter": "python",
   "pygments_lexer": "ipython3",
   "version": "3.11.13"
  }
 },
 "nbformat": 4,
 "nbformat_minor": 4
}
