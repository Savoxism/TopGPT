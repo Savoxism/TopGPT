{
 "cells": [
  {
   "cell_type": "code",
   "execution_count": null,
   "id": "36881389",
   "metadata": {},
   "outputs": [],
   "source": [
    "from huggingface_hub import login\n",
    "from dotenv import load_dotenv\n",
    "import os\n",
    "\n",
    "load_dotenv()\n",
    "\n",
    "HUGGINGFACE_API_KEY = os.getenv(\"HUGGINGFACE_API_KEY\")\n",
    "login(HUGGINGFACE_API_KEY)"
   ]
  },
  {
   "cell_type": "code",
   "execution_count": null,
   "id": "76c15e9e",
   "metadata": {},
   "outputs": [],
   "source": [
    "import os\n",
    "import glob\n",
    "from datasets import load_dataset, Dataset, concatenate_datasets\n",
    "\n",
    "dataset_id = \"Savoxism/andrew-tate-long-form-raw\"\n",
    "data_dir = \"tate_long_form_data\"\n",
    "\n",
    "new_examples = []\n",
    "for txt_path in glob.glob(os.path.join(data_dir, \"*.txt\")):\n",
    "    title = os.path.splitext(os.path.basename(txt_path))[0]\n",
    "    with open(txt_path, \"r\", encoding=\"utf-8\") as f:\n",
    "        content = f.read().strip()\n",
    "    new_examples.append({\"title\": title, \"content\": content})\n",
    "\n",
    "if not new_examples:\n",
    "    print(\"No .txt files found in\", data_dir)"
   ]
  },
  {
   "cell_type": "code",
   "execution_count": null,
   "id": "74943a9d",
   "metadata": {},
   "outputs": [],
   "source": [
    "from pprint import pprint\n",
    "pprint(new_examples[0]['content'][:100])"
   ]
  },
  {
   "cell_type": "code",
   "execution_count": null,
   "id": "8dcdabf5",
   "metadata": {},
   "outputs": [],
   "source": [
    "def push_to_hf(new_examples: list, dataset_id: str):\n",
    "    try:\n",
    "        ds_remote = load_dataset(dataset_id, split=\"train\")\n",
    "        print(f\">>> Đã load {len(ds_remote)} examples từ HF.\")\n",
    "        ds_all = concatenate_datasets([ds_remote, Dataset.from_list(new_examples)])\n",
    "    except Exception as e:\n",
    "        print(f\">>> Chưa có dataset trên HF hoặc load lỗi ({e}), sẽ tạo mới.\")\n",
    "        ds_all = Dataset.from_list(new_examples)\n",
    "    ds_all.push_to_hub(dataset_id)\n",
    "    print(f\">>> Pushed tổng cộng {len(ds_all)} examples lên {dataset_id} ‹train›\")\n",
    "\n",
    "# 3. Execute the push\n",
    "push_to_hf(new_examples, dataset_id)"
   ]
  }
 ],
 "metadata": {
  "kernelspec": {
   "display_name": "venv",
   "language": "python",
   "name": "python3"
  },
  "language_info": {
   "codemirror_mode": {
    "name": "ipython",
    "version": 3
   },
   "file_extension": ".py",
   "mimetype": "text/x-python",
   "name": "python",
   "nbconvert_exporter": "python",
   "pygments_lexer": "ipython3",
   "version": "3.9.6"
  }
 },
 "nbformat": 4,
 "nbformat_minor": 5
}
